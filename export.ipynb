{
 "cells": [
  {
   "cell_type": "code",
   "execution_count": 6,
   "metadata": {},
   "outputs": [
    {
     "name": "stdout",
     "output_type": "stream",
     "text": [
      "PDF generated successfully!\n"
     ]
    }
   ],
   "source": [
    "import pdfkit\n",
    "\n",
    "# Specify the path to your HTML file and the desired output PDF filename\n",
    "html_file = \"statement2.html\"\n",
    "pdf_file = \"output.pdf\"\n",
    "\n",
    "# Convert HTML to PDF with options (optional)\n",
    "config = pdfkit.configuration(wkhtmltopdf=r\"C:\\Program Files\\wkhtmltopdf\\bin\\wkhtmltopdf.exe\")  # Replace with actual path\n",
    "pdfkit.from_file(html_file, pdf_file, configuration=config)\n",
    "\n",
    "print(\"PDF generated successfully!\")\n"
   ]
  },
  {
   "cell_type": "code",
   "execution_count": null,
   "metadata": {},
   "outputs": [],
   "source": [
    "# Read HTML content from file\n",
    "with open('input.html', 'r') as file:\n",
    "    html_content = file.read()\n",
    "\n",
    "# Specify the path where you want to save the PDF\n",
    "pdf_output_path = 'output.pdf'\n",
    "\n",
    "# Convert HTML to PDF\n",
    "pdfkit.from_string(html_content, pdf_output_path)\n",
    "\n",
    "print(\"PDF created successfully!\")"
   ]
  }
 ],
 "metadata": {
  "kernelspec": {
   "display_name": "base",
   "language": "python",
   "name": "python3"
  },
  "language_info": {
   "codemirror_mode": {
    "name": "ipython",
    "version": 3
   },
   "file_extension": ".py",
   "mimetype": "text/x-python",
   "name": "python",
   "nbconvert_exporter": "python",
   "pygments_lexer": "ipython3",
   "version": "3.11.5"
  }
 },
 "nbformat": 4,
 "nbformat_minor": 2
}
